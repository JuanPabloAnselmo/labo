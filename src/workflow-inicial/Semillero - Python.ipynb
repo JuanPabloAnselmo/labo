{
 "cells": [
  {
   "cell_type": "code",
   "execution_count": 5,
   "metadata": {},
   "outputs": [],
   "source": [
    "import pandas as pd\n",
    "import numpy as np"
   ]
  },
  {
   "cell_type": "code",
   "execution_count": 3,
   "metadata": {},
   "outputs": [],
   "source": [
    "import pandas as pd\n",
    "import os\n",
    "\n",
    "# Directorio donde se encuentran los archivos CSV\n",
    "directory = 'C:/Users/jpans/Desktop/Prueba tecnica/LABORATORIO - PRUEBA'\n",
    "\n",
    "# Filtra los archivos CSV que comienzan con el prefijo\n",
    "seed_files = [filename for filename in os.listdir(directory) if filename.startswith(\"exp_ZZ6610_FINAL_SEMILLAS_pred_01_039\") and filename.endswith(\".csv\")]\n",
    "\n",
    "# Inicializa una lista para almacenar DataFrames de los archivos filtrados\n",
    "dfs = []\n",
    "\n",
    "# Carga y procesa los archivos CSV de las semillas filtradas en un DataFrame\n",
    "for seed_file in seed_files:\n",
    "    file_path = os.path.join(directory, seed_file)\n",
    "    df = pd.read_csv(file_path, sep=\"\\t\")  # Lee el archivo CSV de la semilla\n",
    "    dfs.append(df)\n"
   ]
  },
  {
   "cell_type": "code",
   "execution_count": 6,
   "metadata": {},
   "outputs": [],
   "source": [
    "\n",
    "# Concatena los DataFrames en uno solo\n",
    "combined_df = pd.concat(dfs)\n",
    "\n",
    "combined_df[\"Predicted\"] = combined_df.prob.apply(lambda x: np.where(x > 0.025, 1, 0))\n",
    "\n",
    "combined_df.drop(columns=\"prob\", inplace=True)\n",
    "\n",
    "# Agrupa los datos por la columna 'ID' y calcula el promedio de las probabilidades\n",
    "#averaged_df = combined_df.groupby('numero_de_cliente')['prob'].mean().reset_index()\n",
    "\n",
    "\n"
   ]
  },
  {
   "cell_type": "code",
   "execution_count": 7,
   "metadata": {},
   "outputs": [],
   "source": [
    "# Encuentra el valor que más se repite por 'numero_de_cliente'\n",
    "most_common_predicted = combined_df.groupby('numero_de_cliente')['Predicted'].agg(lambda x: x.mode().iat[0])\n",
    "\n",
    "# Crea un nuevo DataFrame con 'numero_de_cliente' y el valor más común\n",
    "result_df = most_common_predicted.reset_index()\n",
    "\n"
   ]
  },
  {
   "cell_type": "code",
   "execution_count": 8,
   "metadata": {},
   "outputs": [],
   "source": [
    "# Guarda el resultado en un archivo CSV\n",
    "most_common_predicted.to_csv('valor_mas_comun_por_cliente_v3.csv', index=False)"
   ]
  },
  {
   "cell_type": "code",
   "execution_count": null,
   "metadata": {},
   "outputs": [],
   "source": []
  }
 ],
 "metadata": {
  "kernelspec": {
   "display_name": "base",
   "language": "python",
   "name": "python3"
  },
  "language_info": {
   "codemirror_mode": {
    "name": "ipython",
    "version": 3
   },
   "file_extension": ".py",
   "mimetype": "text/x-python",
   "name": "python",
   "nbconvert_exporter": "python",
   "pygments_lexer": "ipython3",
   "version": "3.9.13"
  },
  "orig_nbformat": 4
 },
 "nbformat": 4,
 "nbformat_minor": 2
}
